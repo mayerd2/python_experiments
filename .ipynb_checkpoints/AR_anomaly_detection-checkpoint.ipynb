{
 "cells": [
  {
   "cell_type": "markdown",
   "id": "6a1598e9-93af-4c43-952a-93de58579c2a",
   "metadata": {},
   "source": [
    "## Fehlerdetektion durch Anomalieerkennung in Zeitreihen"
   ]
  },
  {
   "attachments": {},
   "cell_type": "markdown",
   "id": "bd277b89-a89c-4465-a332-33aed974dc5d",
   "metadata": {},
   "source": [
    "Ein parametrisches Modell eignet sich auch, um recht einfache Algorithmen zur Fehler- oder Anomaliedetektion in technischen Prozessen zu realisieren.\n",
    "\n",
    "Grundlage ist die Modellvorstellung, dass der technische Prozess am Ausgang im Nominalfall eine Zeitreihe erzeugt, die sich durch einen AR-Prozess modellieren läßt. Im Anomalie- oder Schadensfall wird dieses Verhalten modifiziert, was entweder durch Veränderung des AR-Prozesses oder Überlagerung mit einem weiteren Prozess modelliert wird.\n",
    "\n",
    "- Zunächst wird eine Zeitreihe eines Sensorsignals im Nominalzustand, z.B. an einer ungeschädigten Maschine aufgenommen\n",
    "- Daraus wird ein AR Modell ermittelt. \n",
    "- Nach erfolgter Identifikation der AR-Parameter werden laufend weitere Werte $y(k)$ der Zeitreihe aufgenommen und der Prädiktionsfehler $e(k)$ des Modells ermittelt:\n",
    "  $ e(k) = y(k) - \\sum_{n=1}^{N}{d(n) y(k-n)}$\n",
    "- Annahme ist, dass ein Fehler oder Schaden zu einer Änderung der Parameter der Zeitreihe führt. War im Nominalfall idealerweise der Fehler nur ein weisses Rauschen, weil alle korrelierten Bestandteile im Modell erfasst wurden, ist dies beim Anomaliefall nicht mehr gegeben:\n",
    "- $e(k)$ wird korrelierte Bestandteile enthalten, was man durch die Analyse der Autokorrelation des Signals einfach herausfinden kann. Zur weiteren Diagnose könnte an dieser Stelle ein neues Modell geschätzt werden.\n"
   ]
  },
  {
   "cell_type": "markdown",
   "id": "9a804a8a-0299-4b4a-b8f7-98a03cd07b67",
   "metadata": {},
   "source": [
    "Umsetzung eines einfachen Beispiels: Das Nominalverhalten wird durch eine Zeitreihe dargestellt, die von einem AR Modell (angeregt durch weisses Rauschen) erzeugt wird. Das Fehlerverhalten wird durch ein verändertes Systemverhalten (AR Parameter) modelliert."
   ]
  },
  {
   "cell_type": "markdown",
   "id": "a28bd244-85cc-43d6-bce0-d901818df894",
   "metadata": {},
   "source": [
    "In Anlehnung an einen vergangenen IAEA Benchmark: Eine Kraftwerksanlage erzeugt im Nominalbetrieb ein bestimmtes Körperschallsignal, z.B. durch die Schwingungen in Kesseln und Rohrleitungen. Leckagen oder ungewollte Reaktionen werden das Systemverhalten modifizieren, und zu veränderten Signalen führen."
   ]
  },
  {
   "cell_type": "code",
   "execution_count": 6,
   "id": "e37ff136-4c9b-4cd5-96b3-358c2d92b946",
   "metadata": {},
   "outputs": [],
   "source": [
    "import matplotlib.pyplot as plt\n",
    "import scipy.signal as sp\n",
    "import numpy as np\n",
    "from spectrum import *\n",
    "%matplotlib inline"
   ]
  },
  {
   "cell_type": "markdown",
   "id": "8a77cf80-57d1-4455-8d22-1412bd6a3a5e",
   "metadata": {},
   "source": [
    "Definition des Nominalverhaltens des Systems. Hier wird ein einfaches AR(2) Systemverhalten angenommen, welches von weissem Rauschen angeregt wird. Aus den beiden konjugiert komplexen Polstellen wird das charakteristische Polynom berechnet:\n",
    "$(1-p_1 q)(1 - p_1^* q) = 1 - q 2 Re{p_1} + q^2 |p_1|^2$  "
   ]
  },
  {
   "cell_type": "code",
   "execution_count": 5,
   "id": "1c6defa2-fdc9-49ed-bf46-4a21b12ad00b",
   "metadata": {},
   "outputs": [],
   "source": [
    "# Definition eines konjugiert komplexen Polpaars in der z-Ebene. \n",
    "p1 = 0.7 + 0.45j\n",
    "p2 = np.conjugate(p1)\n"
   ]
  },
  {
   "cell_type": "markdown",
   "id": "1305ba93-9de1-4ba6-b2c6-af3bb063e80b",
   "metadata": {},
   "source": [
    "Simulation zur Erzeugung einer Zeitreihe des Nominalverhaltens"
   ]
  },
  {
   "cell_type": "markdown",
   "id": "b92c3d97-9a93-4cb3-830b-aa9c5a542be9",
   "metadata": {},
   "source": [
    "Erzeugung einer Anomalie: Verändertes Systemverhalten für einen kurzen Zeitraum überlagern."
   ]
  },
  {
   "cell_type": "markdown",
   "id": "87e8e974-b4ef-4e32-9b4c-ef2ee8db40ea",
   "metadata": {},
   "source": [
    "Identifikation eines AR Modells für das Nominalverhalten."
   ]
  },
  {
   "cell_type": "markdown",
   "id": "8a4e1968-d909-46a6-a734-84f1d636a105",
   "metadata": {},
   "source": [
    "Durchlauf mit dem "
   ]
  }
 ],
 "metadata": {
  "kernelspec": {
   "display_name": "Python 3 (ipykernel)",
   "language": "python",
   "name": "python3"
  },
  "language_info": {
   "codemirror_mode": {
    "name": "ipython",
    "version": 3
   },
   "file_extension": ".py",
   "mimetype": "text/x-python",
   "name": "python",
   "nbconvert_exporter": "python",
   "pygments_lexer": "ipython3",
   "version": "3.12.7"
  }
 },
 "nbformat": 4,
 "nbformat_minor": 5
}
